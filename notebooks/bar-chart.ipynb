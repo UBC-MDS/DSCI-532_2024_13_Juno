{
 "cells": [
  {
   "cell_type": "code",
   "execution_count": 25,
   "metadata": {},
   "outputs": [],
   "source": [
    "import pandas as pd\n",
    "import altair as alt"
   ]
  },
  {
   "cell_type": "code",
   "execution_count": 26,
   "metadata": {},
   "outputs": [],
   "source": [
    "df = pd.read_csv(\"../data/raw/filtered_canada_num.csv\")"
   ]
  },
  {
   "cell_type": "code",
   "execution_count": 27,
   "metadata": {},
   "outputs": [
    {
     "data": {
      "text/html": [
       "<div>\n",
       "<style scoped>\n",
       "    .dataframe tbody tr th:only-of-type {\n",
       "        vertical-align: middle;\n",
       "    }\n",
       "\n",
       "    .dataframe tbody tr th {\n",
       "        vertical-align: top;\n",
       "    }\n",
       "\n",
       "    .dataframe thead th {\n",
       "        text-align: right;\n",
       "    }\n",
       "</style>\n",
       "<table border=\"1\" class=\"dataframe\">\n",
       "  <thead>\n",
       "    <tr style=\"text-align: right;\">\n",
       "      <th></th>\n",
       "      <th>Unnamed: 0</th>\n",
       "      <th>Unnamed: 0.1</th>\n",
       "      <th>REF_DATE</th>\n",
       "      <th>GEO</th>\n",
       "      <th>DGUID</th>\n",
       "      <th>Gender</th>\n",
       "      <th>Type of corporation</th>\n",
       "      <th>Country</th>\n",
       "      <th>Industry</th>\n",
       "      <th>Size of enterprise</th>\n",
       "      <th>...</th>\n",
       "      <th>UOM_ID</th>\n",
       "      <th>SCALAR_FACTOR</th>\n",
       "      <th>SCALAR_ID</th>\n",
       "      <th>VECTOR</th>\n",
       "      <th>COORDINATE</th>\n",
       "      <th>VALUE</th>\n",
       "      <th>STATUS</th>\n",
       "      <th>SYMBOL</th>\n",
       "      <th>TERMINATED</th>\n",
       "      <th>DECIMALS</th>\n",
       "    </tr>\n",
       "  </thead>\n",
       "  <tbody>\n",
       "    <tr>\n",
       "      <th>0</th>\n",
       "      <td>0</td>\n",
       "      <td>420</td>\n",
       "      <td>2016</td>\n",
       "      <td>Canada, total</td>\n",
       "      <td>2021A000011124</td>\n",
       "      <td>Women</td>\n",
       "      <td>Total all corporations</td>\n",
       "      <td>Canada</td>\n",
       "      <td>Total all industries</td>\n",
       "      <td>Total all sizes</td>\n",
       "      <td>...</td>\n",
       "      <td>223</td>\n",
       "      <td>units</td>\n",
       "      <td>0</td>\n",
       "      <td>v1352138562</td>\n",
       "      <td>1.1.1.2.1.1.1.1</td>\n",
       "      <td>3455.0</td>\n",
       "      <td>NaN</td>\n",
       "      <td>NaN</td>\n",
       "      <td>NaN</td>\n",
       "      <td>0</td>\n",
       "    </tr>\n",
       "    <tr>\n",
       "      <th>1</th>\n",
       "      <td>2</td>\n",
       "      <td>422</td>\n",
       "      <td>2016</td>\n",
       "      <td>Canada, total</td>\n",
       "      <td>2021A000011124</td>\n",
       "      <td>Women</td>\n",
       "      <td>Total all corporations</td>\n",
       "      <td>Canada</td>\n",
       "      <td>Total all industries</td>\n",
       "      <td>Total all sizes</td>\n",
       "      <td>...</td>\n",
       "      <td>223</td>\n",
       "      <td>units</td>\n",
       "      <td>0</td>\n",
       "      <td>v1428695348</td>\n",
       "      <td>1.1.1.2.1.1.2.1</td>\n",
       "      <td>4277.0</td>\n",
       "      <td>NaN</td>\n",
       "      <td>NaN</td>\n",
       "      <td>NaN</td>\n",
       "      <td>0</td>\n",
       "    </tr>\n",
       "    <tr>\n",
       "      <th>2</th>\n",
       "      <td>4</td>\n",
       "      <td>424</td>\n",
       "      <td>2016</td>\n",
       "      <td>Canada, total</td>\n",
       "      <td>2021A000011124</td>\n",
       "      <td>Women</td>\n",
       "      <td>Total all corporations</td>\n",
       "      <td>Canada</td>\n",
       "      <td>Total all industries</td>\n",
       "      <td>Total all sizes</td>\n",
       "      <td>...</td>\n",
       "      <td>223</td>\n",
       "      <td>units</td>\n",
       "      <td>0</td>\n",
       "      <td>v1428695349</td>\n",
       "      <td>1.1.1.2.1.1.3.1</td>\n",
       "      <td>1110.0</td>\n",
       "      <td>NaN</td>\n",
       "      <td>NaN</td>\n",
       "      <td>NaN</td>\n",
       "      <td>0</td>\n",
       "    </tr>\n",
       "    <tr>\n",
       "      <th>3</th>\n",
       "      <td>6</td>\n",
       "      <td>426</td>\n",
       "      <td>2016</td>\n",
       "      <td>Canada, total</td>\n",
       "      <td>2021A000011124</td>\n",
       "      <td>Women</td>\n",
       "      <td>Total all corporations</td>\n",
       "      <td>Canada</td>\n",
       "      <td>Total all industries</td>\n",
       "      <td>Total all sizes</td>\n",
       "      <td>...</td>\n",
       "      <td>223</td>\n",
       "      <td>units</td>\n",
       "      <td>0</td>\n",
       "      <td>v1428695350</td>\n",
       "      <td>1.1.1.2.1.1.4.1</td>\n",
       "      <td>3167.0</td>\n",
       "      <td>NaN</td>\n",
       "      <td>NaN</td>\n",
       "      <td>NaN</td>\n",
       "      <td>0</td>\n",
       "    </tr>\n",
       "    <tr>\n",
       "      <th>4</th>\n",
       "      <td>8</td>\n",
       "      <td>428</td>\n",
       "      <td>2016</td>\n",
       "      <td>Canada, total</td>\n",
       "      <td>2021A000011124</td>\n",
       "      <td>Women</td>\n",
       "      <td>Total all corporations</td>\n",
       "      <td>Canada</td>\n",
       "      <td>Total all industries</td>\n",
       "      <td>First quartile</td>\n",
       "      <td>...</td>\n",
       "      <td>223</td>\n",
       "      <td>units</td>\n",
       "      <td>0</td>\n",
       "      <td>v1352152062</td>\n",
       "      <td>1.1.1.2.1.2.1.1</td>\n",
       "      <td>652.0</td>\n",
       "      <td>NaN</td>\n",
       "      <td>NaN</td>\n",
       "      <td>NaN</td>\n",
       "      <td>0</td>\n",
       "    </tr>\n",
       "  </tbody>\n",
       "</table>\n",
       "<p>5 rows × 23 columns</p>\n",
       "</div>"
      ],
      "text/plain": [
       "   Unnamed: 0  Unnamed: 0.1  REF_DATE            GEO           DGUID Gender  \\\n",
       "0           0           420      2016  Canada, total  2021A000011124  Women   \n",
       "1           2           422      2016  Canada, total  2021A000011124  Women   \n",
       "2           4           424      2016  Canada, total  2021A000011124  Women   \n",
       "3           6           426      2016  Canada, total  2021A000011124  Women   \n",
       "4           8           428      2016  Canada, total  2021A000011124  Women   \n",
       "\n",
       "      Type of corporation Country              Industry Size of enterprise  \\\n",
       "0  Total all corporations  Canada  Total all industries    Total all sizes   \n",
       "1  Total all corporations  Canada  Total all industries    Total all sizes   \n",
       "2  Total all corporations  Canada  Total all industries    Total all sizes   \n",
       "3  Total all corporations  Canada  Total all industries    Total all sizes   \n",
       "4  Total all corporations  Canada  Total all industries     First quartile   \n",
       "\n",
       "   ... UOM_ID SCALAR_FACTOR SCALAR_ID       VECTOR       COORDINATE   VALUE  \\\n",
       "0  ...    223         units         0  v1352138562  1.1.1.2.1.1.1.1  3455.0   \n",
       "1  ...    223         units         0  v1428695348  1.1.1.2.1.1.2.1  4277.0   \n",
       "2  ...    223         units         0  v1428695349  1.1.1.2.1.1.3.1  1110.0   \n",
       "3  ...    223         units         0  v1428695350  1.1.1.2.1.1.4.1  3167.0   \n",
       "4  ...    223         units         0  v1352152062  1.1.1.2.1.2.1.1   652.0   \n",
       "\n",
       "  STATUS SYMBOL  TERMINATED DECIMALS  \n",
       "0    NaN    NaN         NaN        0  \n",
       "1    NaN    NaN         NaN        0  \n",
       "2    NaN    NaN         NaN        0  \n",
       "3    NaN    NaN         NaN        0  \n",
       "4    NaN    NaN         NaN        0  \n",
       "\n",
       "[5 rows x 23 columns]"
      ]
     },
     "execution_count": 27,
     "metadata": {},
     "output_type": "execute_result"
    }
   ],
   "source": [
    "df.head()"
   ]
  },
  {
   "cell_type": "code",
   "execution_count": 17,
   "metadata": {},
   "outputs": [
    {
     "data": {
      "text/plain": [
       "(151500, 6)"
      ]
     },
     "execution_count": 17,
     "metadata": {},
     "output_type": "execute_result"
    }
   ],
   "source": [
    "df = df.loc[:, [\"REF_DATE\", \"GEO\", \"Gender\", \"Type of corporation\", \"Industry\",\"VALUE\"]]\n",
    "df.shape"
   ]
  },
  {
   "cell_type": "code",
   "execution_count": 18,
   "metadata": {},
   "outputs": [
    {
     "data": {
      "text/plain": [
       "array(['Total all corporations', 'Government business entities',\n",
       "       'Publicly traded corporations', 'Private enterprises',\n",
       "       'Unclassified enterprises'], dtype=object)"
      ]
     },
     "execution_count": 18,
     "metadata": {},
     "output_type": "execute_result"
    }
   ],
   "source": [
    "df[\"Type of corporation\"].unique()"
   ]
  },
  {
   "cell_type": "code",
   "execution_count": 33,
   "metadata": {},
   "outputs": [],
   "source": [
    "new_df = df[(df['Type of corporation'] != 'Total all corporations') & \n",
    "            (df['Industry'] == 'Total all industries') & \n",
    "            # (df[\"Size of enterprise\"] == \"Total all sizes\") &\n",
    "            # (df[\"Unit of measure\"] == \"Number\") &\n",
    "            # (df[\"Executive\"] == \"All officers\\xa0\") &\n",
    "            (df[\"GEO\"] != \"Unclassified province or territory\")\n",
    "].copy()\n",
    "new_df = new_df.loc[:, [\"REF_DATE\",\"GEO\" ,\"Gender\", \"Type of corporation\", \"Industry\",\"VALUE\"]]\n"
   ]
  },
  {
   "cell_type": "code",
   "execution_count": 34,
   "metadata": {},
   "outputs": [],
   "source": [
    "new_df.to_csv('../data/filtered/bar_chart_data.csv', index=False)"
   ]
  }
 ],
 "metadata": {
  "kernelspec": {
   "display_name": "Python 3",
   "language": "python",
   "name": "python3"
  },
  "language_info": {
   "codemirror_mode": {
    "name": "ipython",
    "version": 3
   },
   "file_extension": ".py",
   "mimetype": "text/x-python",
   "name": "python",
   "nbconvert_exporter": "python",
   "pygments_lexer": "ipython3",
   "version": "3.8.19"
  }
 },
 "nbformat": 4,
 "nbformat_minor": 2
}
