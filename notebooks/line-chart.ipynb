{
 "cells": [
  {
   "cell_type": "code",
   "execution_count": 1,
   "metadata": {},
   "outputs": [],
   "source": [
    "import pandas as pd\n",
    "import altair as alt"
   ]
  },
  {
   "cell_type": "code",
   "execution_count": 2,
   "metadata": {},
   "outputs": [],
   "source": [
    "df = pd.read_csv(\"../data/filtered/pie_chart_data.csv\")"
   ]
  },
  {
   "cell_type": "code",
   "execution_count": 3,
   "metadata": {},
   "outputs": [],
   "source": [
    "industry = \"Finance\"\n",
    "filtered_df = df[(df[\"Industry\"] == industry)]"
   ]
  },
  {
   "cell_type": "code",
   "execution_count": 4,
   "metadata": {},
   "outputs": [
    {
     "data": {
      "text/html": [
       "<div>\n",
       "<style scoped>\n",
       "    .dataframe tbody tr th:only-of-type {\n",
       "        vertical-align: middle;\n",
       "    }\n",
       "\n",
       "    .dataframe tbody tr th {\n",
       "        vertical-align: top;\n",
       "    }\n",
       "\n",
       "    .dataframe thead th {\n",
       "        text-align: right;\n",
       "    }\n",
       "</style>\n",
       "<table border=\"1\" class=\"dataframe\">\n",
       "  <thead>\n",
       "    <tr style=\"text-align: right;\">\n",
       "      <th></th>\n",
       "      <th>REF_DATE</th>\n",
       "      <th>Gender</th>\n",
       "      <th>Industry</th>\n",
       "      <th>VALUE</th>\n",
       "    </tr>\n",
       "  </thead>\n",
       "  <tbody>\n",
       "    <tr>\n",
       "      <th>0</th>\n",
       "      <td>2016</td>\n",
       "      <td>Women</td>\n",
       "      <td>Finance</td>\n",
       "      <td>1553.0</td>\n",
       "    </tr>\n",
       "    <tr>\n",
       "      <th>9</th>\n",
       "      <td>2016</td>\n",
       "      <td>Men</td>\n",
       "      <td>Finance</td>\n",
       "      <td>3069.0</td>\n",
       "    </tr>\n",
       "    <tr>\n",
       "      <th>18</th>\n",
       "      <td>2017</td>\n",
       "      <td>Women</td>\n",
       "      <td>Finance</td>\n",
       "      <td>1630.0</td>\n",
       "    </tr>\n",
       "    <tr>\n",
       "      <th>27</th>\n",
       "      <td>2017</td>\n",
       "      <td>Men</td>\n",
       "      <td>Finance</td>\n",
       "      <td>3168.0</td>\n",
       "    </tr>\n",
       "    <tr>\n",
       "      <th>36</th>\n",
       "      <td>2018</td>\n",
       "      <td>Women</td>\n",
       "      <td>Finance</td>\n",
       "      <td>1584.0</td>\n",
       "    </tr>\n",
       "  </tbody>\n",
       "</table>\n",
       "</div>"
      ],
      "text/plain": [
       "    REF_DATE Gender Industry   VALUE\n",
       "0       2016  Women  Finance  1553.0\n",
       "9       2016    Men  Finance  3069.0\n",
       "18      2017  Women  Finance  1630.0\n",
       "27      2017    Men  Finance  3168.0\n",
       "36      2018  Women  Finance  1584.0"
      ]
     },
     "execution_count": 4,
     "metadata": {},
     "output_type": "execute_result"
    }
   ],
   "source": [
    "filtered_df.head()"
   ]
  },
  {
   "cell_type": "code",
   "execution_count": 7,
   "metadata": {},
   "outputs": [
    {
     "data": {
      "text/html": [
       "\n",
       "<style>\n",
       "  #altair-viz-2748b36f11b842a689a44b04df409928.vega-embed {\n",
       "    width: 100%;\n",
       "    display: flex;\n",
       "  }\n",
       "\n",
       "  #altair-viz-2748b36f11b842a689a44b04df409928.vega-embed details,\n",
       "  #altair-viz-2748b36f11b842a689a44b04df409928.vega-embed details summary {\n",
       "    position: relative;\n",
       "  }\n",
       "</style>\n",
       "<div id=\"altair-viz-2748b36f11b842a689a44b04df409928\"></div>\n",
       "<script type=\"text/javascript\">\n",
       "  var VEGA_DEBUG = (typeof VEGA_DEBUG == \"undefined\") ? {} : VEGA_DEBUG;\n",
       "  (function(spec, embedOpt){\n",
       "    let outputDiv = document.currentScript.previousElementSibling;\n",
       "    if (outputDiv.id !== \"altair-viz-2748b36f11b842a689a44b04df409928\") {\n",
       "      outputDiv = document.getElementById(\"altair-viz-2748b36f11b842a689a44b04df409928\");\n",
       "    }\n",
       "    const paths = {\n",
       "      \"vega\": \"https://cdn.jsdelivr.net/npm/vega@5?noext\",\n",
       "      \"vega-lib\": \"https://cdn.jsdelivr.net/npm/vega-lib?noext\",\n",
       "      \"vega-lite\": \"https://cdn.jsdelivr.net/npm/vega-lite@5.15.1?noext\",\n",
       "      \"vega-embed\": \"https://cdn.jsdelivr.net/npm/vega-embed@6?noext\",\n",
       "    };\n",
       "\n",
       "    function maybeLoadScript(lib, version) {\n",
       "      var key = `${lib.replace(\"-\", \"\")}_version`;\n",
       "      return (VEGA_DEBUG[key] == version) ?\n",
       "        Promise.resolve(paths[lib]) :\n",
       "        new Promise(function(resolve, reject) {\n",
       "          var s = document.createElement('script');\n",
       "          document.getElementsByTagName(\"head\")[0].appendChild(s);\n",
       "          s.async = true;\n",
       "          s.onload = () => {\n",
       "            VEGA_DEBUG[key] = version;\n",
       "            return resolve(paths[lib]);\n",
       "          };\n",
       "          s.onerror = () => reject(`Error loading script: ${paths[lib]}`);\n",
       "          s.src = paths[lib];\n",
       "        });\n",
       "    }\n",
       "\n",
       "    function showError(err) {\n",
       "      outputDiv.innerHTML = `<div class=\"error\" style=\"color:red;\">${err}</div>`;\n",
       "      throw err;\n",
       "    }\n",
       "\n",
       "    function displayChart(vegaEmbed) {\n",
       "      vegaEmbed(outputDiv, spec, embedOpt)\n",
       "        .catch(err => showError(`Javascript Error: ${err.message}<br>This usually means there's a typo in your chart specification. See the javascript console for the full traceback.`));\n",
       "    }\n",
       "\n",
       "    if(typeof define === \"function\" && define.amd) {\n",
       "      requirejs.config({paths});\n",
       "      require([\"vega-embed\"], displayChart, err => showError(`Error loading script: ${err.message}`));\n",
       "    } else {\n",
       "      maybeLoadScript(\"vega\", \"5\")\n",
       "        .then(() => maybeLoadScript(\"vega-lite\", \"5.15.1\"))\n",
       "        .then(() => maybeLoadScript(\"vega-embed\", \"6\"))\n",
       "        .catch(showError)\n",
       "        .then(() => displayChart(vegaEmbed));\n",
       "    }\n",
       "  })({\"config\": {\"view\": {\"continuousWidth\": 300, \"continuousHeight\": 300}}, \"data\": {\"name\": \"data-d31d5176ba74ee524aa90e23a34cc527\"}, \"mark\": {\"type\": \"line\"}, \"encoding\": {\"color\": {\"field\": \"Gender\", \"type\": \"nominal\"}, \"tooltip\": [{\"field\": \"Gender\", \"type\": \"nominal\"}, {\"field\": \"VALUE\", \"type\": \"quantitative\"}], \"x\": {\"axis\": {\"title\": \"Year\"}, \"field\": \"REF_DATE\", \"type\": \"ordinal\"}, \"y\": {\"axis\": {\"title\": \"Number of People\"}, \"field\": \"VALUE\", \"type\": \"quantitative\"}}, \"height\": 400, \"title\": \"Number of Men and Women in the Finance Industry Over the Years\", \"width\": 600, \"$schema\": \"https://vega.github.io/schema/vega-lite/v5.15.1.json\", \"datasets\": {\"data-d31d5176ba74ee524aa90e23a34cc527\": [{\"REF_DATE\": 2016, \"Gender\": \"Women\", \"Industry\": \"Finance\", \"VALUE\": 1553.0}, {\"REF_DATE\": 2016, \"Gender\": \"Men\", \"Industry\": \"Finance\", \"VALUE\": 3069.0}, {\"REF_DATE\": 2017, \"Gender\": \"Women\", \"Industry\": \"Finance\", \"VALUE\": 1630.0}, {\"REF_DATE\": 2017, \"Gender\": \"Men\", \"Industry\": \"Finance\", \"VALUE\": 3168.0}, {\"REF_DATE\": 2018, \"Gender\": \"Women\", \"Industry\": \"Finance\", \"VALUE\": 1584.0}, {\"REF_DATE\": 2018, \"Gender\": \"Men\", \"Industry\": \"Finance\", \"VALUE\": 2915.0}, {\"REF_DATE\": 2019, \"Gender\": \"Women\", \"Industry\": \"Finance\", \"VALUE\": 1085.0}, {\"REF_DATE\": 2019, \"Gender\": \"Men\", \"Industry\": \"Finance\", \"VALUE\": 2095.0}, {\"REF_DATE\": 2020, \"Gender\": \"Women\", \"Industry\": \"Finance\", \"VALUE\": 1163.0}, {\"REF_DATE\": 2020, \"Gender\": \"Men\", \"Industry\": \"Finance\", \"VALUE\": 2001.0}]}}, {\"mode\": \"vega-lite\"});\n",
       "</script>"
      ],
      "text/plain": [
       "alt.Chart(...)"
      ]
     },
     "execution_count": 7,
     "metadata": {},
     "output_type": "execute_result"
    }
   ],
   "source": [
    "alt.Chart(filtered_df).mark_line().encode(\n",
    "    x = alt.X('REF_DATE:O', axis=alt.Axis(title='Year')),\n",
    "    y = alt.Y('VALUE:Q', axis=alt.Axis(title='Number of People')),\n",
    "    color = 'Gender:N',\n",
    "    tooltip = ['Gender:N', 'VALUE:Q']\n",
    ").properties(\n",
    "    title='Number of Men and Women in the {} Industry Over the Years'.format(industry),\n",
    "    width=600,\n",
    "    height=400\n",
    ")"
   ]
  }
 ],
 "metadata": {
  "kernelspec": {
   "display_name": "Python 3",
   "language": "python",
   "name": "python3"
  },
  "language_info": {
   "codemirror_mode": {
    "name": "ipython",
    "version": 3
   },
   "file_extension": ".py",
   "mimetype": "text/x-python",
   "name": "python",
   "nbconvert_exporter": "python",
   "pygments_lexer": "ipython3",
   "version": "3.11.4"
  }
 },
 "nbformat": 4,
 "nbformat_minor": 2
}
