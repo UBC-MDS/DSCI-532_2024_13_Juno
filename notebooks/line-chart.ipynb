{
 "cells": [
  {
   "cell_type": "code",
   "execution_count": 3,
   "metadata": {},
   "outputs": [],
   "source": [
    "import pandas as pd\n",
    "import altair as alt"
   ]
  },
  {
   "cell_type": "code",
   "execution_count": 6,
   "metadata": {},
   "outputs": [],
   "source": [
    "df = pd.read_csv(\"../data/filtered/province_data.csv\")"
   ]
  },
  {
   "cell_type": "code",
   "execution_count": 7,
   "metadata": {},
   "outputs": [
    {
     "data": {
      "text/html": [
       "<div>\n",
       "<style scoped>\n",
       "    .dataframe tbody tr th:only-of-type {\n",
       "        vertical-align: middle;\n",
       "    }\n",
       "\n",
       "    .dataframe tbody tr th {\n",
       "        vertical-align: top;\n",
       "    }\n",
       "\n",
       "    .dataframe thead th {\n",
       "        text-align: right;\n",
       "    }\n",
       "</style>\n",
       "<table border=\"1\" class=\"dataframe\">\n",
       "  <thead>\n",
       "    <tr style=\"text-align: right;\">\n",
       "      <th></th>\n",
       "      <th>REF_DATE</th>\n",
       "      <th>Gender</th>\n",
       "      <th>GEO</th>\n",
       "      <th>VALUE</th>\n",
       "    </tr>\n",
       "  </thead>\n",
       "  <tbody>\n",
       "    <tr>\n",
       "      <th>0</th>\n",
       "      <td>2016</td>\n",
       "      <td>Women</td>\n",
       "      <td>Canada, total</td>\n",
       "      <td>4277.0</td>\n",
       "    </tr>\n",
       "    <tr>\n",
       "      <th>1</th>\n",
       "      <td>2016</td>\n",
       "      <td>Men</td>\n",
       "      <td>Canada, total</td>\n",
       "      <td>10114.0</td>\n",
       "    </tr>\n",
       "    <tr>\n",
       "      <th>2</th>\n",
       "      <td>2016</td>\n",
       "      <td>Women</td>\n",
       "      <td>Newfoundland and Labrador</td>\n",
       "      <td>12.0</td>\n",
       "    </tr>\n",
       "    <tr>\n",
       "      <th>3</th>\n",
       "      <td>2016</td>\n",
       "      <td>Men</td>\n",
       "      <td>Newfoundland and Labrador</td>\n",
       "      <td>46.0</td>\n",
       "    </tr>\n",
       "    <tr>\n",
       "      <th>4</th>\n",
       "      <td>2016</td>\n",
       "      <td>Women</td>\n",
       "      <td>Prince Edward Island</td>\n",
       "      <td>3.0</td>\n",
       "    </tr>\n",
       "  </tbody>\n",
       "</table>\n",
       "</div>"
      ],
      "text/plain": [
       "   REF_DATE Gender                        GEO    VALUE\n",
       "0      2016  Women              Canada, total   4277.0\n",
       "1      2016    Men              Canada, total  10114.0\n",
       "2      2016  Women  Newfoundland and Labrador     12.0\n",
       "3      2016    Men  Newfoundland and Labrador     46.0\n",
       "4      2016  Women       Prince Edward Island      3.0"
      ]
     },
     "execution_count": 7,
     "metadata": {},
     "output_type": "execute_result"
    }
   ],
   "source": [
    "df.head()"
   ]
  },
  {
   "cell_type": "code",
   "execution_count": 8,
   "metadata": {},
   "outputs": [],
   "source": [
    "prov= \"Newfoundland and Labrador\"\n",
    "filtered_df = df[(df[\"GEO\"] == prov)]"
   ]
  },
  {
   "cell_type": "code",
   "execution_count": 9,
   "metadata": {},
   "outputs": [
    {
     "data": {
      "text/html": [
       "<div>\n",
       "<style scoped>\n",
       "    .dataframe tbody tr th:only-of-type {\n",
       "        vertical-align: middle;\n",
       "    }\n",
       "\n",
       "    .dataframe tbody tr th {\n",
       "        vertical-align: top;\n",
       "    }\n",
       "\n",
       "    .dataframe thead th {\n",
       "        text-align: right;\n",
       "    }\n",
       "</style>\n",
       "<table border=\"1\" class=\"dataframe\">\n",
       "  <thead>\n",
       "    <tr style=\"text-align: right;\">\n",
       "      <th></th>\n",
       "      <th>REF_DATE</th>\n",
       "      <th>Gender</th>\n",
       "      <th>GEO</th>\n",
       "      <th>VALUE</th>\n",
       "    </tr>\n",
       "  </thead>\n",
       "  <tbody>\n",
       "    <tr>\n",
       "      <th>2</th>\n",
       "      <td>2016</td>\n",
       "      <td>Women</td>\n",
       "      <td>Newfoundland and Labrador</td>\n",
       "      <td>12.0</td>\n",
       "    </tr>\n",
       "    <tr>\n",
       "      <th>3</th>\n",
       "      <td>2016</td>\n",
       "      <td>Men</td>\n",
       "      <td>Newfoundland and Labrador</td>\n",
       "      <td>46.0</td>\n",
       "    </tr>\n",
       "    <tr>\n",
       "      <th>30</th>\n",
       "      <td>2017</td>\n",
       "      <td>Women</td>\n",
       "      <td>Newfoundland and Labrador</td>\n",
       "      <td>20.0</td>\n",
       "    </tr>\n",
       "    <tr>\n",
       "      <th>31</th>\n",
       "      <td>2017</td>\n",
       "      <td>Men</td>\n",
       "      <td>Newfoundland and Labrador</td>\n",
       "      <td>50.0</td>\n",
       "    </tr>\n",
       "    <tr>\n",
       "      <th>58</th>\n",
       "      <td>2018</td>\n",
       "      <td>Women</td>\n",
       "      <td>Newfoundland and Labrador</td>\n",
       "      <td>18.0</td>\n",
       "    </tr>\n",
       "  </tbody>\n",
       "</table>\n",
       "</div>"
      ],
      "text/plain": [
       "    REF_DATE Gender                        GEO  VALUE\n",
       "2       2016  Women  Newfoundland and Labrador   12.0\n",
       "3       2016    Men  Newfoundland and Labrador   46.0\n",
       "30      2017  Women  Newfoundland and Labrador   20.0\n",
       "31      2017    Men  Newfoundland and Labrador   50.0\n",
       "58      2018  Women  Newfoundland and Labrador   18.0"
      ]
     },
     "execution_count": 9,
     "metadata": {},
     "output_type": "execute_result"
    }
   ],
   "source": [
    "filtered_df.head()"
   ]
  },
  {
   "cell_type": "code",
   "execution_count": 12,
   "metadata": {},
   "outputs": [],
   "source": [
    "selected_year = 2016"
   ]
  },
  {
   "cell_type": "code",
   "execution_count": 17,
   "metadata": {},
   "outputs": [],
   "source": [
    "chart = alt.Chart(filtered_df).mark_line().encode(\n",
    "        x=alt.X('REF_DATE:O', axis=alt.Axis(title='Year')),\n",
    "        y=alt.Y('VALUE:Q', axis=alt.Axis(title='Number of People')),\n",
    "        color='Gender:N',\n",
    "        tooltip=['Gender:N', 'VALUE:Q']\n",
    "    ).properties(\n",
    "        title='Number of Men and Women in Executive Positions in {} Over the Years'.format(prov),\n",
    "        width=600,\n",
    "        height=200\n",
    "    )\n",
    "\n",
    "if selected_year is not None:\n",
    "    rule = alt.Chart(pd.DataFrame({'selected_year': [selected_year]})).mark_rule(color='red').encode(\n",
    "        x='selected_year:O'\n",
    "    ).transform_filter(\n",
    "        alt.FieldEqualPredicate(field='selected_year', equal=selected_year)\n",
    "    )\n",
    "    chart_with_marker = chart + rule\n",
    "else:\n",
    "    chart_with_marker = chart"
   ]
  },
  {
   "cell_type": "code",
   "execution_count": 18,
   "metadata": {},
   "outputs": [
    {
     "data": {
      "text/html": [
       "\n",
       "<style>\n",
       "  #altair-viz-fdfda0ba8d8148d2b0aa8c8d2d1ee6d8.vega-embed {\n",
       "    width: 100%;\n",
       "    display: flex;\n",
       "  }\n",
       "\n",
       "  #altair-viz-fdfda0ba8d8148d2b0aa8c8d2d1ee6d8.vega-embed details,\n",
       "  #altair-viz-fdfda0ba8d8148d2b0aa8c8d2d1ee6d8.vega-embed details summary {\n",
       "    position: relative;\n",
       "  }\n",
       "</style>\n",
       "<div id=\"altair-viz-fdfda0ba8d8148d2b0aa8c8d2d1ee6d8\"></div>\n",
       "<script type=\"text/javascript\">\n",
       "  var VEGA_DEBUG = (typeof VEGA_DEBUG == \"undefined\") ? {} : VEGA_DEBUG;\n",
       "  (function(spec, embedOpt){\n",
       "    let outputDiv = document.currentScript.previousElementSibling;\n",
       "    if (outputDiv.id !== \"altair-viz-fdfda0ba8d8148d2b0aa8c8d2d1ee6d8\") {\n",
       "      outputDiv = document.getElementById(\"altair-viz-fdfda0ba8d8148d2b0aa8c8d2d1ee6d8\");\n",
       "    }\n",
       "    const paths = {\n",
       "      \"vega\": \"https://cdn.jsdelivr.net/npm/vega@5?noext\",\n",
       "      \"vega-lib\": \"https://cdn.jsdelivr.net/npm/vega-lib?noext\",\n",
       "      \"vega-lite\": \"https://cdn.jsdelivr.net/npm/vega-lite@5.15.1?noext\",\n",
       "      \"vega-embed\": \"https://cdn.jsdelivr.net/npm/vega-embed@6?noext\",\n",
       "    };\n",
       "\n",
       "    function maybeLoadScript(lib, version) {\n",
       "      var key = `${lib.replace(\"-\", \"\")}_version`;\n",
       "      return (VEGA_DEBUG[key] == version) ?\n",
       "        Promise.resolve(paths[lib]) :\n",
       "        new Promise(function(resolve, reject) {\n",
       "          var s = document.createElement('script');\n",
       "          document.getElementsByTagName(\"head\")[0].appendChild(s);\n",
       "          s.async = true;\n",
       "          s.onload = () => {\n",
       "            VEGA_DEBUG[key] = version;\n",
       "            return resolve(paths[lib]);\n",
       "          };\n",
       "          s.onerror = () => reject(`Error loading script: ${paths[lib]}`);\n",
       "          s.src = paths[lib];\n",
       "        });\n",
       "    }\n",
       "\n",
       "    function showError(err) {\n",
       "      outputDiv.innerHTML = `<div class=\"error\" style=\"color:red;\">${err}</div>`;\n",
       "      throw err;\n",
       "    }\n",
       "\n",
       "    function displayChart(vegaEmbed) {\n",
       "      vegaEmbed(outputDiv, spec, embedOpt)\n",
       "        .catch(err => showError(`Javascript Error: ${err.message}<br>This usually means there's a typo in your chart specification. See the javascript console for the full traceback.`));\n",
       "    }\n",
       "\n",
       "    if(typeof define === \"function\" && define.amd) {\n",
       "      requirejs.config({paths});\n",
       "      require([\"vega-embed\"], displayChart, err => showError(`Error loading script: ${err.message}`));\n",
       "    } else {\n",
       "      maybeLoadScript(\"vega\", \"5\")\n",
       "        .then(() => maybeLoadScript(\"vega-lite\", \"5.15.1\"))\n",
       "        .then(() => maybeLoadScript(\"vega-embed\", \"6\"))\n",
       "        .catch(showError)\n",
       "        .then(() => displayChart(vegaEmbed));\n",
       "    }\n",
       "  })({\"config\": {\"view\": {\"continuousWidth\": 300, \"continuousHeight\": 300}}, \"layer\": [{\"data\": {\"name\": \"data-c8ecff1adc0b07694866f0a08d81da97\"}, \"mark\": {\"type\": \"line\"}, \"encoding\": {\"color\": {\"field\": \"Gender\", \"type\": \"nominal\"}, \"tooltip\": [{\"field\": \"Gender\", \"type\": \"nominal\"}, {\"field\": \"VALUE\", \"type\": \"quantitative\"}], \"x\": {\"axis\": {\"title\": \"Year\"}, \"field\": \"REF_DATE\", \"type\": \"ordinal\"}, \"y\": {\"axis\": {\"title\": \"Number of People\"}, \"field\": \"VALUE\", \"type\": \"quantitative\"}}, \"title\": \"Number of Men and Women in Executive Positions in Newfoundland and Labrador Over the Years\"}, {\"data\": {\"name\": \"data-f0748e188dbb77c972a5628d94f68b71\"}, \"mark\": {\"type\": \"rule\", \"color\": \"red\"}, \"encoding\": {\"x\": {\"field\": \"selected_year\", \"type\": \"ordinal\"}}, \"transform\": [{\"filter\": {\"equal\": 2016, \"field\": \"selected_year\"}}]}], \"height\": 200, \"width\": 600, \"$schema\": \"https://vega.github.io/schema/vega-lite/v5.15.1.json\", \"datasets\": {\"data-c8ecff1adc0b07694866f0a08d81da97\": [{\"REF_DATE\": 2016, \"Gender\": \"Women\", \"GEO\": \"Newfoundland and Labrador\", \"VALUE\": 12.0}, {\"REF_DATE\": 2016, \"Gender\": \"Men\", \"GEO\": \"Newfoundland and Labrador\", \"VALUE\": 46.0}, {\"REF_DATE\": 2017, \"Gender\": \"Women\", \"GEO\": \"Newfoundland and Labrador\", \"VALUE\": 20.0}, {\"REF_DATE\": 2017, \"Gender\": \"Men\", \"GEO\": \"Newfoundland and Labrador\", \"VALUE\": 50.0}, {\"REF_DATE\": 2018, \"Gender\": \"Women\", \"GEO\": \"Newfoundland and Labrador\", \"VALUE\": 18.0}, {\"REF_DATE\": 2018, \"Gender\": \"Men\", \"GEO\": \"Newfoundland and Labrador\", \"VALUE\": 46.0}, {\"REF_DATE\": 2019, \"Gender\": \"Women\", \"GEO\": \"Newfoundland and Labrador\", \"VALUE\": 9.0}, {\"REF_DATE\": 2019, \"Gender\": \"Men\", \"GEO\": \"Newfoundland and Labrador\", \"VALUE\": 37.0}, {\"REF_DATE\": 2020, \"Gender\": \"Women\", \"GEO\": \"Newfoundland and Labrador\", \"VALUE\": 9.0}, {\"REF_DATE\": 2020, \"Gender\": \"Men\", \"GEO\": \"Newfoundland and Labrador\", \"VALUE\": 29.0}], \"data-f0748e188dbb77c972a5628d94f68b71\": [{\"selected_year\": 2016}]}}, {\"mode\": \"vega-lite\"});\n",
       "</script>"
      ],
      "text/plain": [
       "alt.LayerChart(...)"
      ]
     },
     "execution_count": 18,
     "metadata": {},
     "output_type": "execute_result"
    }
   ],
   "source": [
    "chart_with_marker"
   ]
  },
  {
   "cell_type": "markdown",
   "metadata": {},
   "source": [
    "1. remove space before 2016 and after 2020\n",
    "2. static line showing national average\n",
    "3. line showing ratio by province"
   ]
  }
 ],
 "metadata": {
  "kernelspec": {
   "display_name": "Python 3",
   "language": "python",
   "name": "python3"
  },
  "language_info": {
   "codemirror_mode": {
    "name": "ipython",
    "version": 3
   },
   "file_extension": ".py",
   "mimetype": "text/x-python",
   "name": "python",
   "nbconvert_exporter": "python",
   "pygments_lexer": "ipython3",
   "version": "3.11.4"
  }
 },
 "nbformat": 4,
 "nbformat_minor": 2
}
