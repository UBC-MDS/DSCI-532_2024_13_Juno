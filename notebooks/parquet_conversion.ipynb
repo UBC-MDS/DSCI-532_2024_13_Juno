{
 "cells": [
  {
   "cell_type": "code",
   "execution_count": 1,
   "metadata": {},
   "outputs": [],
   "source": [
    "import pandas as pd"
   ]
  },
  {
   "cell_type": "code",
   "execution_count": 6,
   "metadata": {},
   "outputs": [],
   "source": [
    "# DFs we use\n",
    "df_csv = pd.read_csv('../data/filtered/filtered_data.csv')\n",
    "replacement_df_csv = pd.read_csv('../data/filtered/filtered_data_replaced.csv')\n",
    "\n",
    "# Conversion to parquet\n",
    "df_csv.to_parquet('../data/parquet/df.parquet.gzip', compression='gzip')   \n",
    "replacement_df_csv.to_parquet('../data/parquet/replacement_df.parquet.gzip', compression='gzip')  "
   ]
  },
  {
   "cell_type": "code",
   "execution_count": 8,
   "metadata": {},
   "outputs": [],
   "source": [
    "df = pd.read_parquet('../data/parquet/df.parquet.gzip')\n",
    "#replacement_df = pd.read_parquet('data/parquet/replacement_df.parquet.gzip')"
   ]
  },
  {
   "cell_type": "code",
   "execution_count": 9,
   "metadata": {},
   "outputs": [
    {
     "data": {
      "text/html": [
       "<div>\n",
       "<style scoped>\n",
       "    .dataframe tbody tr th:only-of-type {\n",
       "        vertical-align: middle;\n",
       "    }\n",
       "\n",
       "    .dataframe tbody tr th {\n",
       "        vertical-align: top;\n",
       "    }\n",
       "\n",
       "    .dataframe thead th {\n",
       "        text-align: right;\n",
       "    }\n",
       "</style>\n",
       "<table border=\"1\" class=\"dataframe\">\n",
       "  <thead>\n",
       "    <tr style=\"text-align: right;\">\n",
       "      <th></th>\n",
       "      <th>REF_DATE</th>\n",
       "      <th>Gender</th>\n",
       "      <th>GEO</th>\n",
       "      <th>VALUE</th>\n",
       "      <th>Industry</th>\n",
       "      <th>Type of corporation</th>\n",
       "    </tr>\n",
       "  </thead>\n",
       "  <tbody>\n",
       "    <tr>\n",
       "      <th>0</th>\n",
       "      <td>2016</td>\n",
       "      <td>Women</td>\n",
       "      <td>Canada, total</td>\n",
       "      <td>4277.0</td>\n",
       "      <td>Total all industries</td>\n",
       "      <td>Total all corporations</td>\n",
       "    </tr>\n",
       "    <tr>\n",
       "      <th>1</th>\n",
       "      <td>2016</td>\n",
       "      <td>Women</td>\n",
       "      <td>Canada, total</td>\n",
       "      <td>1553.0</td>\n",
       "      <td>Finance</td>\n",
       "      <td>Total all corporations</td>\n",
       "    </tr>\n",
       "    <tr>\n",
       "      <th>2</th>\n",
       "      <td>2016</td>\n",
       "      <td>Women</td>\n",
       "      <td>Canada, total</td>\n",
       "      <td>134.0</td>\n",
       "      <td>Utilities</td>\n",
       "      <td>Total all corporations</td>\n",
       "    </tr>\n",
       "    <tr>\n",
       "      <th>3</th>\n",
       "      <td>2016</td>\n",
       "      <td>Women</td>\n",
       "      <td>Canada, total</td>\n",
       "      <td>661.0</td>\n",
       "      <td>Management of companies and enterprises</td>\n",
       "      <td>Total all corporations</td>\n",
       "    </tr>\n",
       "    <tr>\n",
       "      <th>4</th>\n",
       "      <td>2016</td>\n",
       "      <td>Women</td>\n",
       "      <td>Canada, total</td>\n",
       "      <td>198.0</td>\n",
       "      <td>Distributive trade</td>\n",
       "      <td>Total all corporations</td>\n",
       "    </tr>\n",
       "  </tbody>\n",
       "</table>\n",
       "</div>"
      ],
      "text/plain": [
       "   REF_DATE Gender            GEO   VALUE  \\\n",
       "0      2016  Women  Canada, total  4277.0   \n",
       "1      2016  Women  Canada, total  1553.0   \n",
       "2      2016  Women  Canada, total   134.0   \n",
       "3      2016  Women  Canada, total   661.0   \n",
       "4      2016  Women  Canada, total   198.0   \n",
       "\n",
       "                                  Industry     Type of corporation  \n",
       "0                     Total all industries  Total all corporations  \n",
       "1                                  Finance  Total all corporations  \n",
       "2                                Utilities  Total all corporations  \n",
       "3  Management of companies and enterprises  Total all corporations  \n",
       "4                       Distributive trade  Total all corporations  "
      ]
     },
     "execution_count": 9,
     "metadata": {},
     "output_type": "execute_result"
    }
   ],
   "source": [
    "df.head()"
   ]
  }
 ],
 "metadata": {
  "kernelspec": {
   "display_name": "Python 3",
   "language": "python",
   "name": "python3"
  },
  "language_info": {
   "codemirror_mode": {
    "name": "ipython",
    "version": 3
   },
   "file_extension": ".py",
   "mimetype": "text/x-python",
   "name": "python",
   "nbconvert_exporter": "python",
   "pygments_lexer": "ipython3",
   "version": "3.11.8"
  }
 },
 "nbformat": 4,
 "nbformat_minor": 2
}
