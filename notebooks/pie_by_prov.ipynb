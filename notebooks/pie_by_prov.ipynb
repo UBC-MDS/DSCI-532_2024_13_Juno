{
 "cells": [
  {
   "cell_type": "code",
   "execution_count": 1,
   "metadata": {},
   "outputs": [
    {
     "data": {
      "text/plain": [
       "array(['Newfoundland and Labrador', 'Prince Edward Island', 'Nova Scotia',\n",
       "       'New Brunswick', 'Quebec', 'Ontario', 'Manitoba', 'Saskatchewan',\n",
       "       'Alberta', 'British Columbia', 'Yukon', 'Northwest Territories',\n",
       "       'Nunavut'], dtype=object)"
      ]
     },
     "execution_count": 1,
     "metadata": {},
     "output_type": "execute_result"
    }
   ],
   "source": [
    "from dash import Dash, dcc, callback, Output, Input, html\n",
    "import dash_bootstrap_components as dbc\n",
    "import dash_vega_components as dvc\n",
    "import altair as alt\n",
    "#from vega_datasets import data\n",
    "import pandas as pd\n",
    "\n",
    "df = pd.read_csv(\"../data/raw/filtered_canada.csv\")\n",
    "\n",
    "new_df = df[(df['Type of corporation'] == 'Total all corporations') & \n",
    "            (df['Industry'] == 'Total all industries') & \n",
    "            (df[\"Size of enterprise\"] == \"Total all sizes\") &\n",
    "            (df[\"Unit of measure\"] == \"Number\") &\n",
    "            (df[\"Executive\"] == \"All officers\\xa0\") &\n",
    "            (df[\"GEO\"] != \"Canada, total\") &\n",
    "            (df[\"GEO\"] != \"Unclassified province or territory\")\n",
    "].copy()\n",
    "new_df = new_df.loc[:, [\"REF_DATE\", \"Gender\", \"GEO\", \"VALUE\"]]\n",
    "new_df.head()\n",
    "\n",
    "new_df.to_csv('../data/filtered/province_data.csv', index=False)\n",
    "new_df[\"GEO\"].unique()"
   ]
  },
  {
   "cell_type": "code",
   "execution_count": 2,
   "metadata": {},
   "outputs": [],
   "source": [
    "df = pd.read_csv('../data/filtered/province_data.csv')\n",
    "\n"
   ]
  },
  {
   "cell_type": "code",
   "execution_count": 3,
   "metadata": {},
   "outputs": [
    {
     "data": {
      "text/html": [
       "\n",
       "        <iframe\n",
       "            width=\"100%\"\n",
       "            height=\"650\"\n",
       "            src=\"http://127.0.0.1:8050/\"\n",
       "            frameborder=\"0\"\n",
       "            allowfullscreen\n",
       "            \n",
       "        ></iframe>\n",
       "        "
      ],
      "text/plain": [
       "<IPython.lib.display.IFrame at 0x1474d1a30>"
      ]
     },
     "metadata": {},
     "output_type": "display_data"
    }
   ],
   "source": [
    "\n",
    "# Initiatlize the app\n",
    "app = Dash(__name__, external_stylesheets=[dbc.themes.BOOTSTRAP])\n",
    "\n",
    "# Layout\n",
    "app.layout = dbc.Container([\n",
    "    dvc.Vega(id='pie-chart', spec={}),\n",
    "    html.P(html.Br()),\n",
    "    html.Label('Select a Year'),\n",
    "    dcc.Dropdown(id='year', options=df[\"REF_DATE\"].unique().tolist(), value = 2016),\n",
    "    html.Label('Select a Province'),\n",
    "    dcc.Dropdown(id='prov', options = df[\"GEO\"].unique().tolist(), value ='British Columbia')\n",
    "])\n",
    "\n",
    "# Server side callbacks/reactivity\n",
    "@callback(\n",
    "    Output('pie-chart', 'spec'),\n",
    "    Input('year', 'value'),\n",
    "    Input('prov', 'value'),\n",
    ")\n",
    "\n",
    "def create_chart(year, prov):\n",
    "\n",
    "    # Issue is with industry and year datatype - not recognised by pandas, so it returns empty df (filtered_df)\n",
    "    filtered_df = df[(df[\"GEO\"] == prov) & (df[\"REF_DATE\"] == year)]\n",
    "\n",
    "    \n",
    "    chart = alt.Chart(filtered_df).mark_arc().encode(\n",
    "        theta=\"VALUE\",\n",
    "        color=\"Gender\", \n",
    "        tooltip=['Gender:N', 'VALUE:Q']).properties(\n",
    "        title=\"Number of Women vs Men in Executive Positions\"\n",
    ")\n",
    "\n",
    "\n",
    "    return chart.to_dict()\n",
    "\n",
    "# Run the app/dashboard ##XXXXyear and province for all industries\n",
    "app.run()"
   ]
  },
  {
   "cell_type": "code",
   "execution_count": null,
   "metadata": {},
   "outputs": [],
   "source": []
  }
 ],
 "metadata": {
  "kernelspec": {
   "display_name": "532",
   "language": "python",
   "name": "python3"
  },
  "language_info": {
   "codemirror_mode": {
    "name": "ipython",
    "version": 3
   },
   "file_extension": ".py",
   "mimetype": "text/x-python",
   "name": "python",
   "nbconvert_exporter": "python",
   "pygments_lexer": "ipython3",
   "version": "3.12.2"
  }
 },
 "nbformat": 4,
 "nbformat_minor": 2
}
