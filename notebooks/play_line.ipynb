{
 "cells": [
  {
   "cell_type": "code",
   "execution_count": 20,
   "metadata": {},
   "outputs": [
    {
     "data": {
      "text/html": [
       "\n",
       "<style>\n",
       "  #altair-viz-15faad9f97b64591a3b96a78f45ca421.vega-embed {\n",
       "    width: 100%;\n",
       "    display: flex;\n",
       "  }\n",
       "\n",
       "  #altair-viz-15faad9f97b64591a3b96a78f45ca421.vega-embed details,\n",
       "  #altair-viz-15faad9f97b64591a3b96a78f45ca421.vega-embed details summary {\n",
       "    position: relative;\n",
       "  }\n",
       "</style>\n",
       "<div id=\"altair-viz-15faad9f97b64591a3b96a78f45ca421\"></div>\n",
       "<script type=\"text/javascript\">\n",
       "  var VEGA_DEBUG = (typeof VEGA_DEBUG == \"undefined\") ? {} : VEGA_DEBUG;\n",
       "  (function(spec, embedOpt){\n",
       "    let outputDiv = document.currentScript.previousElementSibling;\n",
       "    if (outputDiv.id !== \"altair-viz-15faad9f97b64591a3b96a78f45ca421\") {\n",
       "      outputDiv = document.getElementById(\"altair-viz-15faad9f97b64591a3b96a78f45ca421\");\n",
       "    }\n",
       "    const paths = {\n",
       "      \"vega\": \"https://cdn.jsdelivr.net/npm/vega@5?noext\",\n",
       "      \"vega-lib\": \"https://cdn.jsdelivr.net/npm/vega-lib?noext\",\n",
       "      \"vega-lite\": \"https://cdn.jsdelivr.net/npm/vega-lite@5.17.0?noext\",\n",
       "      \"vega-embed\": \"https://cdn.jsdelivr.net/npm/vega-embed@6?noext\",\n",
       "    };\n",
       "\n",
       "    function maybeLoadScript(lib, version) {\n",
       "      var key = `${lib.replace(\"-\", \"\")}_version`;\n",
       "      return (VEGA_DEBUG[key] == version) ?\n",
       "        Promise.resolve(paths[lib]) :\n",
       "        new Promise(function(resolve, reject) {\n",
       "          var s = document.createElement('script');\n",
       "          document.getElementsByTagName(\"head\")[0].appendChild(s);\n",
       "          s.async = true;\n",
       "          s.onload = () => {\n",
       "            VEGA_DEBUG[key] = version;\n",
       "            return resolve(paths[lib]);\n",
       "          };\n",
       "          s.onerror = () => reject(`Error loading script: ${paths[lib]}`);\n",
       "          s.src = paths[lib];\n",
       "        });\n",
       "    }\n",
       "\n",
       "    function showError(err) {\n",
       "      outputDiv.innerHTML = `<div class=\"error\" style=\"color:red;\">${err}</div>`;\n",
       "      throw err;\n",
       "    }\n",
       "\n",
       "    function displayChart(vegaEmbed) {\n",
       "      vegaEmbed(outputDiv, spec, embedOpt)\n",
       "        .catch(err => showError(`Javascript Error: ${err.message}<br>This usually means there's a typo in your chart specification. See the javascript console for the full traceback.`));\n",
       "    }\n",
       "\n",
       "    if(typeof define === \"function\" && define.amd) {\n",
       "      requirejs.config({paths});\n",
       "      require([\"vega-embed\"], displayChart, err => showError(`Error loading script: ${err.message}`));\n",
       "    } else {\n",
       "      maybeLoadScript(\"vega\", \"5\")\n",
       "        .then(() => maybeLoadScript(\"vega-lite\", \"5.17.0\"))\n",
       "        .then(() => maybeLoadScript(\"vega-embed\", \"6\"))\n",
       "        .catch(showError)\n",
       "        .then(() => displayChart(vegaEmbed));\n",
       "    }\n",
       "  })({\"$schema\": \"https://vega.github.io/schema/vega/v5.json\", \"data\": [{\"name\": \"source_0\", \"values\": [{\"REF_DATE\": \"2016-01-01T00:00:00.000\", \"mean_VALUE\": 176.30857142857144}, {\"REF_DATE\": \"2017-01-01T00:00:00.000\", \"mean_VALUE\": 175.088}, {\"REF_DATE\": \"2018-01-01T00:00:00.000\", \"mean_VALUE\": 161.0}, {\"REF_DATE\": \"2019-01-01T00:00:00.000\", \"mean_VALUE\": 143.665}, {\"REF_DATE\": \"2020-01-01T00:00:00.000\", \"mean_VALUE\": 144.965}], \"transform\": [{\"type\": \"formula\", \"expr\": \"toDate(datum['REF_DATE'])\", \"as\": \"REF_DATE\"}]}, {\"name\": \"source_0_y_domain_mean_VALUE\", \"values\": [{\"min\": 143.665, \"max\": 176.30857142857144}]}], \"marks\": [{\"type\": \"line\", \"name\": \"marks\", \"from\": {\"data\": \"source_0\"}, \"sort\": {\"field\": \"datum[\\\"REF_DATE\\\"]\"}, \"encode\": {\"update\": {\"defined\": {\"signal\": \"isValid(datum[\\\"REF_DATE\\\"]) && isFinite(+datum[\\\"REF_DATE\\\"]) && isValid(datum[\\\"mean_VALUE\\\"]) && isFinite(+datum[\\\"mean_VALUE\\\"])\"}, \"x\": {\"field\": \"REF_DATE\", \"scale\": \"x\"}, \"stroke\": {\"value\": \"#4c78a8\"}, \"y\": {\"field\": \"mean_VALUE\", \"scale\": \"y\"}}}, \"style\": [\"line\"]}], \"scales\": [{\"name\": \"x\", \"type\": \"time\", \"domain\": {\"data\": \"source_0\", \"field\": \"REF_DATE\"}, \"range\": [0, {\"signal\": \"width\"}]}, {\"name\": \"y\", \"type\": \"linear\", \"domain\": [{\"signal\": \"(data(\\\"source_0_y_domain_mean_VALUE\\\")[0] || {}).min\"}, {\"signal\": \"(data(\\\"source_0_y_domain_mean_VALUE\\\")[0] || {}).max\"}], \"range\": [{\"signal\": \"height\"}, 0], \"zero\": true, \"nice\": true}], \"axes\": [{\"scale\": \"x\", \"ticks\": false, \"aria\": false, \"labels\": false, \"gridScale\": \"y\", \"minExtent\": 0, \"tickCount\": {\"signal\": \"ceil(width/40)\"}, \"zindex\": 0, \"orient\": \"bottom\", \"maxExtent\": 0, \"domain\": false, \"grid\": true}, {\"scale\": \"y\", \"domain\": false, \"labels\": false, \"aria\": false, \"ticks\": false, \"minExtent\": 0, \"maxExtent\": 0, \"grid\": true, \"tickCount\": {\"signal\": \"ceil(height/40)\"}, \"orient\": \"left\", \"zindex\": 0, \"gridScale\": \"x\"}, {\"scale\": \"x\", \"tickCount\": {\"signal\": \"ceil(width/40)\"}, \"title\": \"REF_DATE\", \"labelFlush\": true, \"labelOverlap\": true, \"zindex\": 0, \"orient\": \"bottom\", \"grid\": false}, {\"scale\": \"y\", \"zindex\": 0, \"tickCount\": {\"signal\": \"ceil(height/40)\"}, \"orient\": \"left\", \"title\": \"Mean of VALUE\", \"labelOverlap\": true, \"grid\": false}], \"padding\": 5, \"background\": \"white\", \"width\": 300, \"height\": 300, \"style\": \"cell\"}, {\"mode\": \"vega\"});\n",
       "</script>"
      ],
      "text/plain": [
       "alt.Chart(...)"
      ]
     },
     "execution_count": 20,
     "metadata": {},
     "output_type": "execute_result"
    }
   ],
   "source": [
    "import pandas as pd\n",
    "import altair as alt\n",
    "alt.data_transformers.enable(\"vegafusion\")\n",
    "\n",
    "\n",
    "df = pd.read_csv('../data/raw/filtered_canada_num.csv')\n",
    "df.loc[:, \"GEO\"].unique()\n",
    "\n",
    "\n",
    "total_df = df.query(\"GEO == 'Canada, total'\")\n",
    "\n",
    "line_plot = alt.Chart(total_df).mark_line().encode(\n",
    "    x=alt.X('REF_DATE:T'),\n",
    "    y='mean(VALUE)'\n",
    ")\n",
    "\n",
    "line_plot"
   ]
  }
 ],
 "metadata": {
  "kernelspec": {
   "display_name": "532",
   "language": "python",
   "name": "python3"
  },
  "language_info": {
   "codemirror_mode": {
    "name": "ipython",
    "version": 3
   },
   "file_extension": ".py",
   "mimetype": "text/x-python",
   "name": "python",
   "nbconvert_exporter": "python",
   "pygments_lexer": "ipython3",
   "version": "3.12.2"
  }
 },
 "nbformat": 4,
 "nbformat_minor": 2
}
