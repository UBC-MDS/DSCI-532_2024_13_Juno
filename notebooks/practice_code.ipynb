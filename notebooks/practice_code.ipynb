{
 "cells": [
  {
   "cell_type": "code",
   "execution_count": 1,
   "metadata": {},
   "outputs": [
    {
     "data": {
      "text/html": [
       "\n",
       "        <iframe\n",
       "            width=\"100%\"\n",
       "            height=\"650\"\n",
       "            src=\"http://127.0.0.1:8050/\"\n",
       "            frameborder=\"0\"\n",
       "            allowfullscreen\n",
       "            \n",
       "        ></iframe>\n",
       "        "
      ],
      "text/plain": [
       "<IPython.lib.display.IFrame at 0x29ceb6f6c90>"
      ]
     },
     "metadata": {},
     "output_type": "display_data"
    }
   ],
   "source": [
    "from dash import Dash, html, dcc\n",
    "import dash_bootstrap_components as dbc\n",
    "\n",
    "# Initiatlize the app\n",
    "app = Dash()\n",
    "\n",
    "# Layout\n",
    "app.layout = dbc.Container([\n",
    "    html.Label('Select a Province'),\n",
    "    dcc.Dropdown(\n",
    "        options=['Nova Scotia', 'Quebec', 'Ontario',\n",
    "                 'Prince Edward Island', 'Alberta', 'Saskatchewan',\n",
    "                 'Unclassified province or territory', 'Northwest Territories',\n",
    "                 'New Brunswick','Manitoba', 'Newfoundland and Labrador',\n",
    "                 'British Columbia', 'Yukon', 'Nunavut'],\n",
    "        value='British Columbia',\n",
    "    ),\n",
    "    html.Br(),\n",
    "    # A widget with a self-explanatory placeholder does not need a label\n",
    "    dcc.Dropdown(\n",
    "                options=['Nova Scotia', 'Quebec', 'Ontario',\n",
    "                 'Prince Edward Island', 'Alberta', 'Saskatchewan',\n",
    "                 'Unclassified province or territory', 'Northwest Territories',\n",
    "                 'New Brunswick','Manitoba', 'Newfoundland and Labrador',\n",
    "                 'British Columbia', 'Yukon', 'Nunavut'],\n",
    "        multi=True,\n",
    "        placeholder='Select multiple provinces...'\n",
    "    )\n",
    "])\n",
    "\n",
    "# Run the app/dashboard\n",
    "app.run()"
   ]
  },
  {
   "cell_type": "code",
   "execution_count": null,
   "metadata": {},
   "outputs": [],
   "source": []
  }
 ],
 "metadata": {
  "kernelspec": {
   "display_name": "532",
   "language": "python",
   "name": "python3"
  },
  "language_info": {
   "codemirror_mode": {
    "name": "ipython",
    "version": 3
   },
   "file_extension": ".py",
   "mimetype": "text/x-python",
   "name": "python",
   "nbconvert_exporter": "python",
   "pygments_lexer": "ipython3",
   "version": "3.12.2"
  }
 },
 "nbformat": 4,
 "nbformat_minor": 2
}
